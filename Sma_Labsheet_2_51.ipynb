{
 "cells": [
  {
   "cell_type": "markdown",
   "id": "bf2a4f56",
   "metadata": {},
   "source": [
    "### Lab 2 : Querying user's connection information using facebook graph API and retrieving feed and engagement"
   ]
  },
  {
   "cell_type": "markdown",
   "id": "2c586d99",
   "metadata": {},
   "source": [
    "### Name : Ezhilarasan C\n",
    "### Roll No : 225229151"
   ]
  },
  {
   "cell_type": "markdown",
   "id": "07182477",
   "metadata": {},
   "source": [
    "### Step 1 "
   ]
  },
  {
   "cell_type": "code",
   "execution_count": 1,
   "id": "439ce2c4",
   "metadata": {},
   "outputs": [],
   "source": [
    "ACCESS_TOKEN =\"EAAEqgZBiuVR8BAGeFZAZAwZApsHHTY8qdYZAcPwMau8ovxxNWQ9SgyZCMqUxpcCAwtYLItNN7Y0ahUE4VdsmbLSYQUJZApxdASSI8Gv5ZCE5YkIH0z43F22S2o8mCaSvjaB8upg1w06MfsroWKftg0easIZCYf8v7QTEcDuptayazNNPQJNaUmmcWrqejIex8i5e0aBV88wh99acbGrtIwliM7sowH9NtI5jox9YnldrPv4f75SUy67ghr1DwAUGCRgsZD\""
   ]
  },
  {
   "cell_type": "code",
   "execution_count": 2,
   "id": "353a0940",
   "metadata": {},
   "outputs": [
    {
     "name": "stdout",
     "output_type": "stream",
     "text": [
      "Requirement already satisfied: facebook-sdk in c:\\anaconda\\pspr\\lib\\site-packages (3.1.0)\n",
      "Requirement already satisfied: requests in c:\\anaconda\\pspr\\lib\\site-packages (from facebook-sdk) (2.27.1)\n",
      "Requirement already satisfied: urllib3<1.27,>=1.21.1 in c:\\anaconda\\pspr\\lib\\site-packages (from requests->facebook-sdk) (1.26.9)\n",
      "Requirement already satisfied: certifi>=2017.4.17 in c:\\anaconda\\pspr\\lib\\site-packages (from requests->facebook-sdk) (2022.12.7)\n",
      "Requirement already satisfied: charset-normalizer~=2.0.0 in c:\\anaconda\\pspr\\lib\\site-packages (from requests->facebook-sdk) (2.0.4)"
     ]
    },
    {
     "name": "stderr",
     "output_type": "stream",
     "text": [
      "\n",
      "[notice] A new release of pip is available: 23.1.2 -> 23.2\n",
      "[notice] To update, run: python.exe -m pip install --upgrade pip\n"
     ]
    },
    {
     "name": "stdout",
     "output_type": "stream",
     "text": [
      "\n",
      "Requirement already satisfied: idna<4,>=2.5 in c:\\anaconda\\pspr\\lib\\site-packages (from requests->facebook-sdk) (2.10)\n"
     ]
    }
   ],
   "source": [
    "! pip install facebook-sdk"
   ]
  },
  {
   "cell_type": "markdown",
   "id": "98c4bf6b",
   "metadata": {},
   "source": [
    "### Step 2: Install the neccesary libaries  "
   ]
  },
  {
   "cell_type": "code",
   "execution_count": 3,
   "id": "81b10245",
   "metadata": {},
   "outputs": [],
   "source": [
    "import facebook\n",
    "import urllib3\n",
    "import requests\n",
    "import json"
   ]
  },
  {
   "cell_type": "markdown",
   "id": "732d0616",
   "metadata": {},
   "source": [
    "### Step 3: Querying the graph API with python "
   ]
  },
  {
   "cell_type": "code",
   "execution_count": 4,
   "id": "4a1954af",
   "metadata": {},
   "outputs": [
    {
     "name": "stdout",
     "output_type": "stream",
     "text": [
      "{\n",
      " \"name\": \"Ezhil C\",\n",
      " \"id\": \"101458556368842\"\n",
      "}\n"
     ]
    }
   ],
   "source": [
    "def pp(o):\n",
    "    print(json.dumps(o,indent=1))\n",
    "# create a Connection to the Graph API with access token\n",
    "g = facebook.GraphAPI(ACCESS_TOKEN,version='2.10')\n",
    "# get my ID\n",
    "pp(g.get_object('me'))"
   ]
  },
  {
   "cell_type": "markdown",
   "id": "3b552059",
   "metadata": {},
   "source": [
    "### Step 4: Get the user's connection names -likes,friends feed, group- This may require permissions"
   ]
  },
  {
   "cell_type": "code",
   "execution_count": 5,
   "id": "060a337a",
   "metadata": {},
   "outputs": [
    {
     "name": "stdout",
     "output_type": "stream",
     "text": [
      "{\n",
      " \"data\": [\n",
      "  {\n",
      "   \"name\": \"Actor Vijay\",\n",
      "   \"id\": \"584512021569368\",\n",
      "   \"created_time\": \"2023-07-19T07:21:26+0000\"\n",
      "  },\n",
      "  {\n",
      "   \"name\": \"Nelson Dilipkumar\",\n",
      "   \"id\": \"1872288492999080\",\n",
      "   \"created_time\": \"2023-07-19T06:34:25+0000\"\n",
      "  },\n",
      "  {\n",
      "   \"name\": \"Anirudh Ravichander\",\n",
      "   \"id\": \"219819918089278\",\n",
      "   \"created_time\": \"2023-07-19T06:34:12+0000\"\n",
      "  },\n",
      "  {\n",
      "   \"name\": \"Lokesh Kanagaraj\",\n",
      "   \"id\": \"110224217158179\",\n",
      "   \"created_time\": \"2023-07-19T06:33:36+0000\"\n",
      "  },\n",
      "  {\n",
      "   \"name\": \"Virat Kohli\",\n",
      "   \"id\": \"326546224099154\",\n",
      "   \"created_time\": \"2023-07-19T06:33:23+0000\"\n",
      "  },\n",
      "  {\n",
      "   \"name\": \"MS Dhoni\",\n",
      "   \"id\": \"1710096432546912\",\n",
      "   \"created_time\": \"2023-07-19T06:32:30+0000\"\n",
      "  }\n",
      " ],\n",
      " \"paging\": {\n",
      "  \"cursors\": {\n",
      "   \"before\": \"NTg0NTEyMDIxNTY5MzY4\",\n",
      "   \"after\": \"MTcxMDA5NjQzMjU0NjkxMgZDZD\"\n",
      "  }\n",
      " }\n",
      "}\n"
     ]
    }
   ],
   "source": [
    "pp(g.get_connections(id='me',connection_name = 'likes'))"
   ]
  },
  {
   "cell_type": "code",
   "execution_count": 6,
   "id": "25fb4c62",
   "metadata": {},
   "outputs": [
    {
     "name": "stdout",
     "output_type": "stream",
     "text": [
      "{\n",
      " \"data\": [],\n",
      " \"summary\": {\n",
      "  \"total_count\": 3\n",
      " }\n",
      "}\n"
     ]
    }
   ],
   "source": [
    "pp(g.get_connections(id='me',connection_name = 'friends'))"
   ]
  },
  {
   "cell_type": "code",
   "execution_count": 7,
   "id": "30ca72ec",
   "metadata": {},
   "outputs": [
    {
     "name": "stdout",
     "output_type": "stream",
     "text": [
      "{\n",
      " \"data\": [\n",
      "  {\n",
      "   \"created_time\": \"2002-10-28T08:00:00+0000\",\n",
      "   \"id\": \"101458556368842_101434776371220\"\n",
      "  }\n",
      " ],\n",
      " \"paging\": {\n",
      "  \"previous\": \"https://graph.facebook.com/v17.0/101458556368842/feed?access_token=EAAEqgZBiuVR8BAGeFZAZAwZApsHHTY8qdYZAcPwMau8ovxxNWQ9SgyZCMqUxpcCAwtYLItNN7Y0ahUE4VdsmbLSYQUJZApxdASSI8Gv5ZCE5YkIH0z43F22S2o8mCaSvjaB8upg1w06MfsroWKftg0easIZCYf8v7QTEcDuptayazNNPQJNaUmmcWrqejIex8i5e0aBV88wh99acbGrtIwliM7sowH9NtI5jox9YnldrPv4f75SUy67ghr1DwAUGCRgsZD&__previous=1&since=1035792000&until&__paging_token=enc_AdAii1cIKFcKigxmd9FM0lZA8h7NoswJsKoWYWzP0E7Txz3YhPA6Pc2v0vZA2LljpZCPNLWFwNmQa3hihuO5ksYftfCiY5LC1PN8yz8lNZCUVdTKRwZDZD\",\n",
      "  \"next\": \"https://graph.facebook.com/v17.0/101458556368842/feed?access_token=EAAEqgZBiuVR8BAGeFZAZAwZApsHHTY8qdYZAcPwMau8ovxxNWQ9SgyZCMqUxpcCAwtYLItNN7Y0ahUE4VdsmbLSYQUJZApxdASSI8Gv5ZCE5YkIH0z43F22S2o8mCaSvjaB8upg1w06MfsroWKftg0easIZCYf8v7QTEcDuptayazNNPQJNaUmmcWrqejIex8i5e0aBV88wh99acbGrtIwliM7sowH9NtI5jox9YnldrPv4f75SUy67ghr1DwAUGCRgsZD&until=1035792000&since&__paging_token=enc_AdAii1cIKFcKigxmd9FM0lZA8h7NoswJsKoWYWzP0E7Txz3YhPA6Pc2v0vZA2LljpZCPNLWFwNmQa3hihuO5ksYftfCiY5LC1PN8yz8lNZCUVdTKRwZDZD&__previous\"\n",
      " }\n",
      "}\n"
     ]
    }
   ],
   "source": [
    "pp(g.get_connections(id='me',connection_name='feed'))"
   ]
  },
  {
   "cell_type": "code",
   "execution_count": 8,
   "id": "9b9ce8ae",
   "metadata": {},
   "outputs": [
    {
     "name": "stdout",
     "output_type": "stream",
     "text": [
      "{\n",
      " \"data\": [\n",
      "  {\n",
      "   \"name\": \"Python Machine Learning\",\n",
      "   \"id\": \"699038760180241\"\n",
      "  },\n",
      "  {\n",
      "   \"name\": \"Python Machine Learning & Deep Learning\",\n",
      "   \"id\": \"1583643181679576\"\n",
      "  },\n",
      "  {\n",
      "   \"name\": \"MACHINE LEARNING AND ARTIFICIAL INTELLIGENCE PROFESSIONALS GROUP\",\n",
      "   \"id\": \"197964893963666\"\n",
      "  }\n",
      " ],\n",
      " \"paging\": {\n",
      "  \"cursors\": {\n",
      "   \"before\": \"QVFIUmNldHVBNTBtd21CQWZAFN0pMcHZACXzU3aGlJUmVGYkVsVG1BTmRLTzQtQjNBdFhLVGxSSkg2bzNFcmkzc082LXRpYzRXRnR1SG0tQXBhZAlJQUUxYMjB3\",\n",
      "   \"after\": \"QVFIUmF2UzJUQ0VEYmxJdXR2d1k2UHYxUXM2cHBtNk12a3ZAhMTNmZAklYRzFkWWFsemZAycmRBNTNhYVlYLUhvWlltN21xYXVjS1NlMVVTck80UGlJSkY2M0Nn\"\n",
      "  }\n",
      " }\n",
      "}\n"
     ]
    }
   ],
   "source": [
    "pp(g.get_connections(id='me',connection_name='groups'))"
   ]
  },
  {
   "cell_type": "markdown",
   "id": "aea817b6",
   "metadata": {},
   "source": [
    "### Step 5: Get information about a feed in your facebook page "
   ]
  },
  {
   "cell_type": "code",
   "execution_count": 9,
   "id": "0124f1fe",
   "metadata": {},
   "outputs": [
    {
     "name": "stdout",
     "output_type": "stream",
     "text": [
      "{\n",
      " \"data\": [\n",
      "  {\n",
      "   \"created_time\": \"2002-10-28T08:00:00+0000\",\n",
      "   \"id\": \"101458556368842_101434776371220\"\n",
      "  }\n",
      " ],\n",
      " \"paging\": {\n",
      "  \"previous\": \"https://graph.facebook.com/v17.0/101458556368842/feed?access_token=EAAEqgZBiuVR8BAGeFZAZAwZApsHHTY8qdYZAcPwMau8ovxxNWQ9SgyZCMqUxpcCAwtYLItNN7Y0ahUE4VdsmbLSYQUJZApxdASSI8Gv5ZCE5YkIH0z43F22S2o8mCaSvjaB8upg1w06MfsroWKftg0easIZCYf8v7QTEcDuptayazNNPQJNaUmmcWrqejIex8i5e0aBV88wh99acbGrtIwliM7sowH9NtI5jox9YnldrPv4f75SUy67ghr1DwAUGCRgsZD&fields=message%2Ccreated_time&__previous=1&since=1035792000&until&__paging_token=enc_AdAii1cIKFcKigxmd9FM0lZA8h7NoswJsKoWYWzP0E7Txz3YhPA6Pc2v0vZA2LljpZCPNLWFwNmQa3hihuO5ksYftfCiY5LC1PN8yz8lNZCUVdTKRwZDZD\",\n",
      "  \"next\": \"https://graph.facebook.com/v17.0/101458556368842/feed?access_token=EAAEqgZBiuVR8BAGeFZAZAwZApsHHTY8qdYZAcPwMau8ovxxNWQ9SgyZCMqUxpcCAwtYLItNN7Y0ahUE4VdsmbLSYQUJZApxdASSI8Gv5ZCE5YkIH0z43F22S2o8mCaSvjaB8upg1w06MfsroWKftg0easIZCYf8v7QTEcDuptayazNNPQJNaUmmcWrqejIex8i5e0aBV88wh99acbGrtIwliM7sowH9NtI5jox9YnldrPv4f75SUy67ghr1DwAUGCRgsZD&fields=message%2Ccreated_time&until=1035792000&since&__paging_token=enc_AdAii1cIKFcKigxmd9FM0lZA8h7NoswJsKoWYWzP0E7Txz3YhPA6Pc2v0vZA2LljpZCPNLWFwNmQa3hihuO5ksYftfCiY5LC1PN8yz8lNZCUVdTKRwZDZD&__previous\"\n",
      " }\n",
      "}\n"
     ]
    }
   ],
   "source": [
    "pp(g.get_connections(id='me', connection_name='feed', fields='message,created_time', limit='100'))"
   ]
  },
  {
   "cell_type": "markdown",
   "id": "8c3180d2",
   "metadata": {},
   "source": [
    "### Step 6: Get the metrics towards engagement of connections towards your facebook post "
   ]
  },
  {
   "cell_type": "code",
   "execution_count": 10,
   "id": "b58ef907",
   "metadata": {
    "scrolled": true
   },
   "outputs": [
    {
     "name": "stdout",
     "output_type": "stream",
     "text": [
      "{\n",
      " \"data\": [\n",
      "  {\n",
      "   \"caption\": \"Born\",\n",
      "   \"created_time\": \"2002-10-28T08:00:00+0000\",\n",
      "   \"id\": \"101458556368842_101434776371220\"\n",
      "  }\n",
      " ],\n",
      " \"paging\": {\n",
      "  \"previous\": \"https://graph.facebook.com/v17.0/101458556368842/posts?access_token=EAAEqgZBiuVR8BAGeFZAZAwZApsHHTY8qdYZAcPwMau8ovxxNWQ9SgyZCMqUxpcCAwtYLItNN7Y0ahUE4VdsmbLSYQUJZApxdASSI8Gv5ZCE5YkIH0z43F22S2o8mCaSvjaB8upg1w06MfsroWKftg0easIZCYf8v7QTEcDuptayazNNPQJNaUmmcWrqejIex8i5e0aBV88wh99acbGrtIwliM7sowH9NtI5jox9YnldrPv4f75SUy67ghr1DwAUGCRgsZD&fields=caption%2Ccreated_time%2Cdescription&__previous=1&since=1035792000&until&__paging_token=enc_AdAii1cIKFcKigxmd9FM0lZA8h7NoswJsKoWYWzP0E7Txz3YhPA6Pc2v0vZA2LljpZCPNLWFwNmQa3hihuO5ksYftfCiY5LC1PN8yz8lNZCUVdTKRwZDZD\",\n",
      "  \"next\": \"https://graph.facebook.com/v17.0/101458556368842/posts?access_token=EAAEqgZBiuVR8BAGeFZAZAwZApsHHTY8qdYZAcPwMau8ovxxNWQ9SgyZCMqUxpcCAwtYLItNN7Y0ahUE4VdsmbLSYQUJZApxdASSI8Gv5ZCE5YkIH0z43F22S2o8mCaSvjaB8upg1w06MfsroWKftg0easIZCYf8v7QTEcDuptayazNNPQJNaUmmcWrqejIex8i5e0aBV88wh99acbGrtIwliM7sowH9NtI5jox9YnldrPv4f75SUy67ghr1DwAUGCRgsZD&fields=caption%2Ccreated_time%2Cdescription&until=1035792000&since&__paging_token=enc_AdAii1cIKFcKigxmd9FM0lZA8h7NoswJsKoWYWzP0E7Txz3YhPA6Pc2v0vZA2LljpZCPNLWFwNmQa3hihuO5ksYftfCiY5LC1PN8yz8lNZCUVdTKRwZDZD&__previous\"\n",
      " }\n",
      "}\n"
     ]
    }
   ],
   "source": [
    "pp(g.get_connections(id='me', connection_name='posts', fields='caption,created_time,description', limit='100'))"
   ]
  },
  {
   "cell_type": "code",
   "execution_count": null,
   "id": "be9f1450",
   "metadata": {},
   "outputs": [],
   "source": []
  }
 ],
 "metadata": {
  "kernelspec": {
   "display_name": "Python 3 (ipykernel)",
   "language": "python",
   "name": "python3"
  },
  "language_info": {
   "codemirror_mode": {
    "name": "ipython",
    "version": 3
   },
   "file_extension": ".py",
   "mimetype": "text/x-python",
   "name": "python",
   "nbconvert_exporter": "python",
   "pygments_lexer": "ipython3",
   "version": "3.9.12"
  }
 },
 "nbformat": 4,
 "nbformat_minor": 5
}
